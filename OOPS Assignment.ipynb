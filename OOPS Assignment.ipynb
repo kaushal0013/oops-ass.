{
 "cells": [
  {
   "cell_type": "markdown",
   "id": "9b087753-e930-4162-b71b-69c3efdec667",
   "metadata": {},
   "source": [
    "Q1. Explain Class and Object with respect to Object-Oriented Programming. Give a suitable example."
   ]
  },
  {
   "cell_type": "raw",
   "id": "bb2640e2-eacc-4311-bc04-21b89667275d",
   "metadata": {},
   "source": [
    "##Class:\n",
    "A class is a blueprint or template for creating objects. It defines the structure and behavior of objects of that class.\n",
    "A class encapsulates data (attributes) and functions (methods) that operate on that data.\n",
    "It serves as a design for objects of a specific type, specifying what attributes they will have and what they can do."
   ]
  },
  {
   "cell_type": "code",
   "execution_count": 4,
   "id": "3600a5dd-2a00-46d5-b85b-343357b96c5e",
   "metadata": {},
   "outputs": [],
   "source": [
    "class Car:\n",
    "    def __init__(self, make, model, year):\n",
    "        self.make = make\n",
    "        self.model = model\n",
    "        self.year = year\n",
    "        self.is_running = False\n",
    "\n",
    "    def start_engine(self):\n",
    "        self.is_running = True\n",
    "\n",
    "    def stop_engine(self):\n",
    "        self.is_running = False\n",
    "\n",
    "    def honk_horn(self):\n",
    "        print(\"Honk! Honk!\")"
   ]
  },
  {
   "cell_type": "code",
   "execution_count": null,
   "id": "4db1cbbf-2e59-4046-841d-b366b92d578c",
   "metadata": {},
   "outputs": [],
   "source": []
  },
  {
   "cell_type": "raw",
   "id": "600206cb-24d7-4012-a99d-c38deab8ccf0",
   "metadata": {},
   "source": [
    "##Object:\n",
    "An object is an instance of a class. It is a concrete realization of the class, created from the class blueprint.\n",
    "Objects have their own copies of the class's attributes, and they can invoke the methods defined in the class.\n",
    "Objects are used to represent real-world entities and interact with them through method calls."
   ]
  },
  {
   "cell_type": "code",
   "execution_count": 5,
   "id": "b1bed9f7-5345-4746-af22-460a4cbbbd79",
   "metadata": {},
   "outputs": [
    {
     "name": "stdout",
     "output_type": "stream",
     "text": [
      "Toyota Camry is running: True\n",
      "Honda Civic is running: True\n",
      "Honk! Honk!\n",
      "Honk! Honk!\n"
     ]
    }
   ],
   "source": [
    "car1 = Car(\"Toyota\", \"Camry\", 2022)\n",
    "car2 = Car(\"Honda\", \"Civic\", 2023)\n",
    "car1.start_engine()\n",
    "car2.start_engine()\n",
    "print(f\"{car1.make} {car1.model} is running: {car1.is_running}\")\n",
    "print(f\"{car2.make} {car2.model} is running: {car2.is_running}\")\n",
    "car1.honk_horn()\n",
    "car2.honk_horn()\n"
   ]
  },
  {
   "cell_type": "code",
   "execution_count": null,
   "id": "aa2c537b-f9e0-4638-828a-8778f3097462",
   "metadata": {},
   "outputs": [],
   "source": []
  },
  {
   "cell_type": "markdown",
   "id": "27218ce7-6d15-4459-b037-f59475a81a4f",
   "metadata": {},
   "source": [
    "Q2. Name the four pillars of OOPs."
   ]
  },
  {
   "cell_type": "raw",
   "id": "58a9152f-6b61-4870-8aeb-50bce85808d2",
   "metadata": {},
   "source": [
    "1. Encapsulation: Encapsulation is the principle of bundling the data (attributes) and the methods (functions) that operate on that data into a single unit, known as a class. It helps in hiding the internal implementation details and exposing only the necessary interfaces to interact with the class. This concept provides data protection and control over access to the data, promoting data integrity and security.\n",
    "\n",
    "2. Inheritance: Inheritance allows a class (called the subclass or derived class) to inherit properties and behaviors from another class (called the superclass or base class). This promotes code reusability and the creation of a hierarchy of classes. Subclasses can extend or override the attributes and methods of their superclass.\n",
    "\n",
    "3. Polymorphism: Polymorphism is the ability of different classes to be treated as instances of a common superclass. It allows objects of different classes to be used interchangeably if they implement a common interface or have a related hierarchy. Polymorphism enables flexibility and extensibility in code, as it allows for more generic and flexible programming.\n",
    "\n",
    "4. Abstraction: Abstraction is the process of simplifying complex reality by modeling classes based on the essential characteristics and behaviors. It involves defining a clear and concise interface for classes, where the underlying complexity is hidden from the user. Abstraction helps in managing code complexity and allows developers to focus on high-level functionality without getting bogged down in implementation details.\n",
    "\n",
    "\n",
    "\n",
    "\n",
    "\n"
   ]
  },
  {
   "cell_type": "code",
   "execution_count": null,
   "id": "af98df32-bf2d-4261-8ebb-84d9485a5163",
   "metadata": {},
   "outputs": [],
   "source": []
  },
  {
   "cell_type": "markdown",
   "id": "efc79188-3b5c-4742-a6ad-e40b84240c1b",
   "metadata": {},
   "source": [
    "Q3. Explain why the __init__() function is used. Give a suitable example."
   ]
  },
  {
   "cell_type": "raw",
   "id": "1bca6364-c5e7-4074-8fbc-555cd88d2e37",
   "metadata": {},
   "source": [
    "In object-oriented programming, the __init__() function, also known as the constructor or initializer method, is used to initialize the attributes or properties of an object when it is created from a class. This function is called automatically when an object is instantiated from a class, and it allows you to set the initial state of the object by providing values for its attributes."
   ]
  },
  {
   "cell_type": "code",
   "execution_count": 7,
   "id": "d9a49896-8711-48b6-984d-e1743723dbcd",
   "metadata": {},
   "outputs": [
    {
     "name": "stdout",
     "output_type": "stream",
     "text": [
      "Hi, I'm Kaushal and I am 22 years old.\n",
      "Hi, I'm Rutu and I am 22 years old.\n"
     ]
    }
   ],
   "source": [
    "class Person:\n",
    "    def __init__(self, name, age):\n",
    "        self.name = name  \n",
    "        self.age = age \n",
    "\n",
    "    def introduce(self):\n",
    "        print(f\"Hi, I'm {self.name} and I am {self.age} years old.\")\n",
    "\n",
    "person1 = Person(\"Kaushal\",22)\n",
    "person2 = Person(\"Rutu\", 22)\n",
    "\n",
    "person1.introduce()\n",
    "person2.introduce() \n"
   ]
  },
  {
   "cell_type": "code",
   "execution_count": null,
   "id": "116ff076-8464-48e2-9ff1-a98adfafebd6",
   "metadata": {},
   "outputs": [],
   "source": []
  },
  {
   "cell_type": "markdown",
   "id": "0fd67760-2254-4d21-b208-3905c35028fd",
   "metadata": {},
   "source": [
    "Q4. Why self is used in OOPs?"
   ]
  },
  {
   "cell_type": "raw",
   "id": "62a387a7-a5e0-487a-ae94-bf0198567448",
   "metadata": {},
   "source": [
    "In object-oriented programming (OOP), self is a convention used to refer to the instance of a class within that class. It is a reference to the current object being operated on. The use of self is essential for several reasons:"
   ]
  },
  {
   "cell_type": "code",
   "execution_count": null,
   "id": "96cfb0c0-b472-4151-8bf3-4de985ca6c17",
   "metadata": {},
   "outputs": [],
   "source": []
  },
  {
   "cell_type": "markdown",
   "id": "a2f86be6-9109-4ee1-8739-79a5d187d8b1",
   "metadata": {},
   "source": [
    "Q5. What is inheritance? Give an example for each type of inheritance."
   ]
  },
  {
   "cell_type": "raw",
   "id": "9b43d8fa-f25f-4638-9d98-34e9f4da5ef4",
   "metadata": {},
   "source": [
    "Inheritance is one of the four fundamental concepts of object-oriented programming (OOP) and is a mechanism that allows a new class (the derived or subclass) to inherit properties and behaviors (attributes and methods) from an existing class (the base or superclass). Inheritance promotes code reusability and establishes a hierarchy of classes, where the derived class can add new features or modify existing ones. There are several types of inheritance, including:"
   ]
  },
  {
   "cell_type": "code",
   "execution_count": null,
   "id": "944520c4-6c24-4293-8780-2e78d5c646c2",
   "metadata": {},
   "outputs": [],
   "source": []
  },
  {
   "cell_type": "code",
   "execution_count": null,
   "id": "ae2ac6a6-5a38-414a-aad3-7c4d0b8df45f",
   "metadata": {},
   "outputs": [],
   "source": []
  },
  {
   "cell_type": "code",
   "execution_count": null,
   "id": "c14c67d1-2ca6-48b6-9c49-969f5ce9e3ba",
   "metadata": {},
   "outputs": [],
   "source": []
  }
 ],
 "metadata": {
  "kernelspec": {
   "display_name": "Python 3 (ipykernel)",
   "language": "python",
   "name": "python3"
  },
  "language_info": {
   "codemirror_mode": {
    "name": "ipython",
    "version": 3
   },
   "file_extension": ".py",
   "mimetype": "text/x-python",
   "name": "python",
   "nbconvert_exporter": "python",
   "pygments_lexer": "ipython3",
   "version": "3.10.8"
  }
 },
 "nbformat": 4,
 "nbformat_minor": 5
}
